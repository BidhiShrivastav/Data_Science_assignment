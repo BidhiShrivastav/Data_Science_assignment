{
 "cells": [
  {
   "cell_type": "markdown",
   "metadata": {},
   "source": [
    "### QUESTION 1\n",
    "#1. Matrix Operation\n",
    "Perform the following operations on the given matrices:\n",
    "A=[[2    -1], [​0    3​]]\n",
    "B=[[1   ​ 2], [-3      4​]]\n",
    "a. A+B\n",
    "b. AB\n",
    "c. 3A−2B"
   ]
  },
  {
   "cell_type": "code",
   "execution_count": 1,
   "metadata": {},
   "outputs": [],
   "source": [
    "import numpy as np"
   ]
  },
  {
   "cell_type": "code",
   "execution_count": 4,
   "metadata": {},
   "outputs": [
    {
     "name": "stdout",
     "output_type": "stream",
     "text": [
      "[[ 3  1]\n",
      " [-3  7]]\n"
     ]
    }
   ],
   "source": [
    "#QUESTION-1A\n",
    "A = np.array([[2,-1],\n",
    "              [0,3]])\n",
    "B = np.array([[1,2],\n",
    "              [-3,4]])\n",
    "print(A+B)\n"
   ]
  },
  {
   "cell_type": "code",
   "execution_count": 3,
   "metadata": {},
   "outputs": [
    {
     "name": "stdout",
     "output_type": "stream",
     "text": [
      "[[ 5  0]\n",
      " [-9 12]]\n"
     ]
    }
   ],
   "source": [
    "#QUESTION-1B\n",
    "A = np.array([[2,-1],\n",
    "              [0,3]])\n",
    "B = np.array([[1,2],\n",
    "              [-3,4]])\n",
    "print(A @ B)\n"
   ]
  },
  {
   "cell_type": "code",
   "execution_count": 2,
   "metadata": {},
   "outputs": [
    {
     "name": "stdout",
     "output_type": "stream",
     "text": [
      "[[ 4 -7]\n",
      " [ 6  1]]\n"
     ]
    }
   ],
   "source": [
    "#QUESTION-1C\n",
    "A = np.array([[2,-1],\n",
    "              [0,3]])\n",
    "B = np.array([[1,2],\n",
    "              [-3,4]])\n",
    "print(3*A-2*B)"
   ]
  },
  {
   "cell_type": "markdown",
   "metadata": {},
   "source": [
    "### QUESTION 2\n",
    "#Determinants and Inverses  \n",
    "Find the determinant of A.\n",
    "Determine whether A is invertible. If yes, calculate A−1"
   ]
  },
  {
   "cell_type": "code",
   "execution_count": 9,
   "metadata": {},
   "outputs": [
    {
     "name": "stdout",
     "output_type": "stream",
     "text": [
      "determinant of matrix A is 6.0\n"
     ]
    }
   ],
   "source": [
    "#QUESTION-2A\n",
    "d= round(np.linalg.det(A),2)\n",
    "print(f\"determinant of matrix A is {d}\")\n"
   ]
  },
  {
   "cell_type": "code",
   "execution_count": 7,
   "metadata": {},
   "outputs": [
    {
     "name": "stdout",
     "output_type": "stream",
     "text": [
      "Inverse of matrix A exists.\n",
      "The inverse of the matrix A is:\n",
      "[[0.5        0.16666667]\n",
      " [0.         0.33333333]]\n"
     ]
    }
   ],
   "source": [
    "#QUESTION-2B\n",
    "d= round(np.linalg.det(A),2)\n",
    "if(not d==0):\n",
    "    print(\"Inverse of matrix A exists.\")\n",
    "    inverse = np.linalg.inv(A)\n",
    "    print(\"The inverse of the matrix A is:\")\n",
    "    print(inverse)\n",
    "else:\n",
    "    print(\"Inverse of matrix A doesn't exist.\")"
   ]
  },
  {
   "cell_type": "markdown",
   "metadata": {},
   "source": [
    "### QUESTION 3\n",
    "#Eigenvalues and Eigenvectors  \n",
    "Compute the eigenvalues and eigenvectors of the matrix:\n",
    "C=[[4    1], [​−2       1]​]"
   ]
  },
  {
   "cell_type": "code",
   "execution_count": 12,
   "metadata": {},
   "outputs": [
    {
     "name": "stdout",
     "output_type": "stream",
     "text": [
      "eigen values of matrix A is [2. 3.]\n",
      "eigen vectors of matrix A is [[ 1.         -0.70710678]\n",
      " [ 0.          0.70710678]]\n"
     ]
    }
   ],
   "source": [
    "C = np.array([[4,1],\n",
    "              [-2,1]])\n",
    "eigval,eigvec = np.linalg.eig(A)\n",
    "print(f\"eigen values of matrix A is {eigval}\")\n",
    "print(f\"eigen vectors of matrix A is {eigvec}\")"
   ]
  },
  {
   "cell_type": "markdown",
   "metadata": {},
   "source": [
    "### QUESTION 4\n",
    "#You are given a dataset of cars with the following features:Number of cylinders (x1​)Engine size in liters (x2​)Horsepower (x3)\n",
    "car 1:,x1: 4,x2:  1.5,x3: 100 and price: 20\n",
    "car 2:,x1: 6,x2:  2.0,x3: 150 and price: 30\n",
    "Then, find the price of a car 3 with features:x1: 8,x2:  3.0,x3: 200,price:?\n",
    "Hints:\n",
    "1-Represent the given dataset as a matrix equation X.T*β=y, where X is the feature matrix, β is the coefficient vector, and y is the price vector  \n",
    "2-Compute β (the coefficients) using the normal equation:β=(X.T * X)^−1  X.T y\n",
    "where,\n",
    "X.T --> transpose matrix"
   ]
  },
  {
   "cell_type": "code",
   "execution_count": 13,
   "metadata": {},
   "outputs": [
    {
     "name": "stdout",
     "output_type": "stream",
     "text": [
      " price of the car X3 is 40.00000000000243\n"
     ]
    }
   ],
   "source": [
    "S= np.array([[4,1.5,100],\n",
    "              [6,2.0,150]])\n",
    "P = np.array([[20],\n",
    "              [30]])\n",
    "inv = np.linalg.pinv(S.T @ S)\n",
    "B = inv @ S.T @ P\n",
    "X = np.array([[8,3.0,200]])\n",
    "pri= np.linalg.det(X @ B)\n",
    "print(f\" price of the car X3 is {pri}\")"
   ]
  }
 ],
 "metadata": {
  "kernelspec": {
   "display_name": "Python 3",
   "language": "python",
   "name": "python3"
  },
  "language_info": {
   "codemirror_mode": {
    "name": "ipython",
    "version": 3
   },
   "file_extension": ".py",
   "mimetype": "text/x-python",
   "name": "python",
   "nbconvert_exporter": "python",
   "pygments_lexer": "ipython3",
   "version": "3.13.1"
  }
 },
 "nbformat": 4,
 "nbformat_minor": 2
}
